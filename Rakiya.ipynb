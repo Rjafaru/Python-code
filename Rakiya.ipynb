{
 "cells": [
  {
   "cell_type": "code",
   "execution_count": 3,
   "id": "9ad8c20b",
   "metadata": {
    "scrolled": true
   },
   "outputs": [
    {
     "name": "stdout",
     "output_type": "stream",
     "text": [
      "I love pyhton\n"
     ]
    }
   ],
   "source": [
    "print(\"I love pyhton\")"
   ]
  },
  {
   "cell_type": "code",
   "execution_count": 6,
   "id": "fb3977e0",
   "metadata": {},
   "outputs": [
    {
     "name": "stdout",
     "output_type": "stream",
     "text": [
      "I love pyhton\n"
     ]
    }
   ],
   "source": [
    "print(\"I love pyhton\")"
   ]
  },
  {
   "cell_type": "code",
   "execution_count": 8,
   "id": "83c213a6",
   "metadata": {},
   "outputs": [
    {
     "data": {
      "text/plain": [
       "4"
      ]
     },
     "execution_count": 8,
     "metadata": {},
     "output_type": "execute_result"
    }
   ],
   "source": [
    "2 + 2"
   ]
  },
  {
   "cell_type": "code",
   "execution_count": 13,
   "id": "2e1cb430",
   "metadata": {},
   "outputs": [],
   "source": [
    "age = 23\n",
    "\n",
    "height = 23.8\n",
    "\n",
    "name = \"Mustapha Laba\""
   ]
  },
  {
   "cell_type": "code",
   "execution_count": 15,
   "id": "0978c665",
   "metadata": {},
   "outputs": [
    {
     "data": {
      "text/plain": [
       "'The average of 2, 5, 6'"
      ]
     },
     "execution_count": 15,
     "metadata": {},
     "output_type": "execute_result"
    }
   ],
   "source": [
    "num1 = 2\n",
    "num2 = 5\n",
    "num3 = 6\n",
    "avg = (num1 + num2 + num3) /3\n",
    "\"The average of {}, {}, {}\".format(num1, num2, num3, avg)"
   ]
  },
  {
   "cell_type": "code",
   "execution_count": 17,
   "id": "3e35d1da",
   "metadata": {},
   "outputs": [],
   "source": [
    "import sys"
   ]
  },
  {
   "cell_type": "code",
   "execution_count": 18,
   "id": "c03cf4fd",
   "metadata": {},
   "outputs": [
    {
     "name": "stdout",
     "output_type": "stream",
     "text": [
      "3.11.5 | packaged by Anaconda, Inc. | (main, Sep 11 2023, 13:26:23) [MSC v.1916 64 bit (AMD64)]\n"
     ]
    }
   ],
   "source": [
    "print (sys.version)"
   ]
  },
  {
   "cell_type": "code",
   "execution_count": 19,
   "id": "694b620d",
   "metadata": {},
   "outputs": [
    {
     "data": {
      "text/plain": [
       "16"
      ]
     },
     "execution_count": 19,
     "metadata": {},
     "output_type": "execute_result"
    }
   ],
   "source": [
    "4 * 4"
   ]
  },
  {
   "cell_type": "code",
   "execution_count": 20,
   "id": "8190a3a5",
   "metadata": {},
   "outputs": [
    {
     "name": "stdout",
     "output_type": "stream",
     "text": [
      "16\n"
     ]
    }
   ],
   "source": [
    "print (4 * 4)"
   ]
  },
  {
   "cell_type": "code",
   "execution_count": 23,
   "id": "e41834b6",
   "metadata": {},
   "outputs": [
    {
     "name": "stdout",
     "output_type": "stream",
     "text": [
      "7\n"
     ]
    }
   ],
   "source": [
    "x = 3 + 2 * 2\n",
    "print ( 3 +2 * 2)\n",
    "\n",
    "\"The value of X is\" + str(x)\n",
    "\"The value of \"\n"
   ]
  },
  {
   "cell_type": "code",
   "execution_count": 26,
   "id": "20d90a18",
   "metadata": {},
   "outputs": [
    {
     "name": "stdout",
     "output_type": "stream",
     "text": [
      "10\n"
     ]
    }
   ],
   "source": [
    "print ((3 + 2) * 2)\n"
   ]
  },
  {
   "cell_type": "code",
   "execution_count": null,
   "id": "1c5296e2",
   "metadata": {},
   "outputs": [],
   "source": [
    "ages = [23, 45, 67, 89,]"
   ]
  },
  {
   "cell_type": "code",
   "execution_count": 35,
   "id": "ffc9155e",
   "metadata": {},
   "outputs": [
    {
     "data": {
      "text/plain": [
       "[65, 70, 75, 80]"
      ]
     },
     "execution_count": 35,
     "metadata": {},
     "output_type": "execute_result"
    }
   ],
   "source": [
    "Rakiya_ages = [50, 55, 60, 65, 70, 75, 80]\n",
    "Rakiya_ages [3 : 7]"
   ]
  },
  {
   "cell_type": "code",
   "execution_count": 36,
   "id": "3fb13280",
   "metadata": {},
   "outputs": [
    {
     "data": {
      "text/plain": [
       "70"
      ]
     },
     "execution_count": 36,
     "metadata": {},
     "output_type": "execute_result"
    }
   ],
   "source": [
    "Rakiya_ages [4]"
   ]
  },
  {
   "cell_type": "code",
   "execution_count": 37,
   "id": "2e32d2be",
   "metadata": {},
   "outputs": [
    {
     "data": {
      "text/plain": [
       "455"
      ]
     },
     "execution_count": 37,
     "metadata": {},
     "output_type": "execute_result"
    }
   ],
   "source": [
    "sum(Rakiya_ages)"
   ]
  },
  {
   "cell_type": "code",
   "execution_count": 40,
   "id": "fe6187fb",
   "metadata": {},
   "outputs": [
    {
     "name": "stdout",
     "output_type": "stream",
     "text": [
      "A\n",
      "l\n",
      "a\n",
      "b\n",
      "a\n"
     ]
    }
   ],
   "source": [
    "for character in \"Alaba\":\n",
    "    print(character)"
   ]
  },
  {
   "cell_type": "code",
   "execution_count": 43,
   "id": "0c61fb77",
   "metadata": {},
   "outputs": [
    {
     "data": {
      "text/plain": [
       "[6, 7, 8, 9]"
      ]
     },
     "execution_count": 43,
     "metadata": {},
     "output_type": "execute_result"
    }
   ],
   "source": [
    "ages = [1,2,3,4,5,5,6,7,8,9]\n",
    "\n",
    "new_ages = []\n",
    "for age in ages:\n",
    "    if age > 5:\n",
    "        new_ages.append(age)\n",
    "        \n",
    "        \n",
    "        \n",
    "new_ages"
   ]
  },
  {
   "cell_type": "code",
   "execution_count": 46,
   "id": "4fcd9630",
   "metadata": {},
   "outputs": [
    {
     "name": "stdout",
     "output_type": "stream",
     "text": [
      "0\n",
      "1\n",
      "2\n",
      "3\n",
      "4\n",
      "5\n",
      "6\n",
      "7\n",
      "8\n",
      "9\n"
     ]
    }
   ],
   "source": [
    "for i in range(10):\n",
    "    print(i)"
   ]
  },
  {
   "cell_type": "code",
   "execution_count": 5,
   "id": "bfcd3dd5",
   "metadata": {},
   "outputs": [
    {
     "name": "stdout",
     "output_type": "stream",
     "text": [
      "1 * 1 = 1\n",
      "1 * 2 = 2\n",
      "1 * 3 = 3\n",
      "1 * 4 = 4\n",
      "1 * 5 = 5\n",
      "1 * 6 = 6\n",
      "1 * 7 = 7\n",
      "1 * 8 = 8\n",
      "1 * 9 = 9\n",
      "----------\n",
      "2 * 1 = 2\n",
      "2 * 2 = 4\n",
      "2 * 3 = 6\n",
      "2 * 4 = 8\n",
      "2 * 5 = 10\n",
      "2 * 6 = 12\n",
      "2 * 7 = 14\n",
      "2 * 8 = 16\n",
      "2 * 9 = 18\n",
      "----------\n",
      "3 * 1 = 3\n",
      "3 * 2 = 6\n",
      "3 * 3 = 9\n",
      "3 * 4 = 12\n",
      "3 * 5 = 15\n",
      "3 * 6 = 18\n",
      "3 * 7 = 21\n",
      "3 * 8 = 24\n",
      "3 * 9 = 27\n",
      "----------\n",
      "4 * 1 = 4\n",
      "4 * 2 = 8\n",
      "4 * 3 = 12\n",
      "4 * 4 = 16\n",
      "4 * 5 = 20\n",
      "4 * 6 = 24\n",
      "4 * 7 = 28\n",
      "4 * 8 = 32\n",
      "4 * 9 = 36\n",
      "----------\n",
      "5 * 1 = 5\n",
      "5 * 2 = 10\n",
      "5 * 3 = 15\n",
      "5 * 4 = 20\n",
      "5 * 5 = 25\n",
      "5 * 6 = 30\n",
      "5 * 7 = 35\n",
      "5 * 8 = 40\n",
      "5 * 9 = 45\n",
      "----------\n",
      "6 * 1 = 6\n",
      "6 * 2 = 12\n",
      "6 * 3 = 18\n",
      "6 * 4 = 24\n",
      "6 * 5 = 30\n",
      "6 * 6 = 36\n",
      "6 * 7 = 42\n",
      "6 * 8 = 48\n",
      "6 * 9 = 54\n",
      "----------\n",
      "7 * 1 = 7\n",
      "7 * 2 = 14\n",
      "7 * 3 = 21\n",
      "7 * 4 = 28\n",
      "7 * 5 = 35\n",
      "7 * 6 = 42\n",
      "7 * 7 = 49\n",
      "7 * 8 = 56\n",
      "7 * 9 = 63\n",
      "----------\n",
      "8 * 1 = 8\n",
      "8 * 2 = 16\n",
      "8 * 3 = 24\n",
      "8 * 4 = 32\n",
      "8 * 5 = 40\n",
      "8 * 6 = 48\n",
      "8 * 7 = 56\n",
      "8 * 8 = 64\n",
      "8 * 9 = 72\n",
      "----------\n",
      "9 * 1 = 9\n",
      "9 * 2 = 18\n",
      "9 * 3 = 27\n",
      "9 * 4 = 36\n",
      "9 * 5 = 45\n",
      "9 * 6 = 54\n",
      "9 * 7 = 63\n",
      "9 * 8 = 72\n",
      "9 * 9 = 81\n",
      "----------\n",
      "10 * 1 = 10\n",
      "10 * 2 = 20\n",
      "10 * 3 = 30\n",
      "10 * 4 = 40\n",
      "10 * 5 = 50\n",
      "10 * 6 = 60\n",
      "10 * 7 = 70\n",
      "10 * 8 = 80\n",
      "10 * 9 = 90\n",
      "----------\n"
     ]
    }
   ],
   "source": [
    "for num in range (1, 11):\n",
    "    \n",
    "    multiplier = 1\n",
    "    while multiplier < 10:\n",
    "        print(\"{} * {} = {}\" .format(num, multiplier, num * multiplier))\n",
    "        multiplier += 1\n",
    "    print(\"----------\")"
   ]
  },
  {
   "cell_type": "code",
   "execution_count": 9,
   "id": "c8a39581",
   "metadata": {},
   "outputs": [
    {
     "name": "stdout",
     "output_type": "stream",
     "text": [
      "-5\n",
      "-4\n",
      "-3\n",
      "-2\n",
      "-1\n",
      "0\n",
      "1\n",
      "2\n",
      "3\n",
      "4\n"
     ]
    }
   ],
   "source": [
    "for num in range (-5, 5):\n",
    "    print(num)"
   ]
  },
  {
   "cell_type": "code",
   "execution_count": 15,
   "id": "a632e26f",
   "metadata": {},
   "outputs": [
    {
     "name": "stdout",
     "output_type": "stream",
     "text": [
      "Rock\n",
      "soul\n",
      "poop\n"
     ]
    }
   ],
   "source": [
    "Genres= ['Rock', 'soul', 'poop']\n",
    "for Music in Genres:\n",
    "    print(Music)"
   ]
  },
  {
   "cell_type": "code",
   "execution_count": 18,
   "id": "c6d0c2e3",
   "metadata": {},
   "outputs": [
    {
     "name": "stdout",
     "output_type": "stream",
     "text": [
      "10\n",
      "9.5\n",
      "10\n",
      "8\n",
      "7.5\n"
     ]
    }
   ],
   "source": [
    "PlayListRatings= [10, 9.5, 10, 8, 7.5, 5, 10, 10]\n",
    "\n",
    "for rating in PlayListRatings:\n",
    "    if rating < 6:\n",
    "        break\n",
    "    print(rating)"
   ]
  },
  {
   "cell_type": "code",
   "execution_count": 23,
   "id": "dc951028",
   "metadata": {},
   "outputs": [
    {
     "name": "stdout",
     "output_type": "stream",
     "text": [
      "10\n",
      "9.5\n",
      "10\n",
      "8\n",
      "7.5\n",
      "10\n",
      "10\n"
     ]
    }
   ],
   "source": [
    "PlayListRatings= [10, 9.5, 10, 8, 7.5, 5, 10, 10]\n",
    "\n",
    "for rating in PlayListRatings:\n",
    "    if rating > 6:\n",
    "         print(rating)"
   ]
  },
  {
   "cell_type": "code",
   "execution_count": 24,
   "id": "56ee5dac",
   "metadata": {},
   "outputs": [
    {
     "name": "stdout",
     "output_type": "stream",
     "text": [
      "10\n",
      "9.5\n",
      "10\n",
      "8\n",
      "7.5\n"
     ]
    }
   ],
   "source": [
    "PlayListRatings= [10, 9.5, 10, 8, 7.5, 5, 10, 10]\n",
    "\n",
    "\n",
    "rating_indx = 0\n",
    "while rating_indx < len(PlayListRatings) - 1:\n",
    "    \n",
    "    if PlayListRatings[rating_indx] < 6:\n",
    "        break\n",
    "    print(PlayListRatings[rating_indx])\n",
    "\n",
    "    rating_indx = rating_indx + 1"
   ]
  },
  {
   "cell_type": "code",
   "execution_count": null,
   "id": "00aabd06",
   "metadata": {},
   "outputs": [],
   "source": []
  }
 ],
 "metadata": {
  "kernelspec": {
   "display_name": "Python 3 (ipykernel)",
   "language": "python",
   "name": "python3"
  },
  "language_info": {
   "codemirror_mode": {
    "name": "ipython",
    "version": 3
   },
   "file_extension": ".py",
   "mimetype": "text/x-python",
   "name": "python",
   "nbconvert_exporter": "python",
   "pygments_lexer": "ipython3",
   "version": "3.11.5"
  }
 },
 "nbformat": 4,
 "nbformat_minor": 5
}
